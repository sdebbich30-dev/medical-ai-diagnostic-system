{
 "cells": [
  {
   "cell_type": "code",
   "execution_count": 2,
   "id": "66af3a6a-3288-4e08-92d8-d60da2cff8af",
   "metadata": {},
   "outputs": [
    {
     "name": "stdout",
     "output_type": "stream",
     "text": [
      " Notebook EDA chargé !\n"
     ]
    }
   ],
   "source": [
    "import pandas as pd\n",
    "import numpy as np\n",
    "import matplotlib.pyplot as plt\n",
    "import seaborn as sns\n",
    "from pathlib import Path\n",
    "import sys\n",
    "\n",
    "# Configurer l'affichage\n",
    "plt.style.use('seaborn-v0_8')\n",
    "%matplotlib inline\n",
    "\n",
    "print(\" Notebook EDA chargé !\")\n"
   ]
  },
  {
   "cell_type": "code",
   "execution_count": 3,
   "id": "6332f4be-05a9-4fd5-97d7-997ee2ae62ed",
   "metadata": {},
   "outputs": [
    {
     "name": "stdout",
     "output_type": "stream",
     "text": [
      " Données chargées :\n",
      "          Image_Index  Patient_Age Patient_Gender  Atelectasis  Cardiomegaly  \\\n",
      "0  image_00000000.png           22              F            0             1   \n",
      "1  image_00000001.png           67              M            0             0   \n",
      "2  image_00000002.png           34              F            0             0   \n",
      "3  image_00000003.png           51              F            0             0   \n",
      "4  image_00000004.png           44              F            0             0   \n",
      "\n",
      "   Effusion  No_Finding  \n",
      "0         1           1  \n",
      "1         1           0  \n",
      "2         0           0  \n",
      "3         0           1  \n",
      "4         0           0  \n"
     ]
    }
   ],
   "source": [
    "# Charger les données sample\n",
    "sample_data = {\n",
    "    'Image_Index': [f'image_{i:08d}.png' for i in range(100)],\n",
    "    'Patient_Age': np.random.randint(20, 80, 100),\n",
    "    'Patient_Gender': np.random.choice(['M', 'F'], 100),\n",
    "    'Atelectasis': np.random.choice([0, 1], 100, p=[0.8, 0.2]),\n",
    "    'Cardiomegaly': np.random.choice([0, 1], 100, p=[0.9, 0.1]),\n",
    "    'Effusion': np.random.choice([0, 1], 100, p=[0.85, 0.15]),\n",
    "    'No_Finding': np.random.choice([0, 1], 100, p=[0.6, 0.4])\n",
    "}\n",
    "\n",
    "df = pd.DataFrame(sample_data)\n",
    "print(\" Données chargées :\")\n",
    "print(df.head())"
   ]
  },
  {
   "cell_type": "code",
   "execution_count": null,
   "id": "7337a9fc-99dc-4bde-8c24-5b2719b20a65",
   "metadata": {},
   "outputs": [],
   "source": []
  }
 ],
 "metadata": {
  "kernelspec": {
   "display_name": "Python 3 (ipykernel)",
   "language": "python",
   "name": "python3"
  },
  "language_info": {
   "codemirror_mode": {
    "name": "ipython",
    "version": 3
   },
   "file_extension": ".py",
   "mimetype": "text/x-python",
   "name": "python",
   "nbconvert_exporter": "python",
   "pygments_lexer": "ipython3",
   "version": "3.12.10"
  }
 },
 "nbformat": 4,
 "nbformat_minor": 5
}
